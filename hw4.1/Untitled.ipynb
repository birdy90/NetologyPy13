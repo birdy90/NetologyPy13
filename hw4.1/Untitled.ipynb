{
 "cells": [
  {
   "cell_type": "code",
   "execution_count": 10,
   "metadata": {},
   "outputs": [],
   "source": [
    "import pandas\n",
    "\n",
    "path = './data'"
   ]
  },
  {
   "cell_type": "code",
   "execution_count": 173,
   "metadata": {},
   "outputs": [],
   "source": [
    "def count_top3(list):\n",
    "    data = []\n",
    "    \n",
    "    for item in list:\n",
    "        newData = pandas.read_csv(\n",
    "            '{}/yob{}.txt'.format(path, item),\n",
    "            names = ['name', 'gender', 'count']\n",
    "        ).sort_values(by='count', ascending=False)\n",
    "        data.append(newData)\n",
    "    data = pandas.concat(data, names=['name', 'gender']).sort_values(by='count', ascending=False)\n",
    "    print(data.head(3)['name'].tolist())"
   ]
  },
  {
   "cell_type": "code",
   "execution_count": 174,
   "metadata": {},
   "outputs": [
    {
     "name": "stdout",
     "output_type": "stream",
     "text": [
      "['John', 'William', 'Mary']\n"
     ]
    }
   ],
   "source": [
    "count_top3([1880])"
   ]
  },
  {
   "cell_type": "code",
   "execution_count": 175,
   "metadata": {},
   "outputs": [
    {
     "name": "stdout",
     "output_type": "stream",
     "text": [
      "['James', 'Robert', 'Linda']\n"
     ]
    }
   ],
   "source": [
    "count_top3([1900, 1950, 2000])"
   ]
  },
  {
   "cell_type": "code",
   "execution_count": 232,
   "metadata": {},
   "outputs": [],
   "source": [
    "def count_dynamics(list):\n",
    "    data = {'F': [], 'M': []}\n",
    "    \n",
    "    for i, item in enumerate(list):\n",
    "        newData = pandas.read_csv(\n",
    "            '{}/yob{}.txt'.format(path, item),\n",
    "            names = ['name', 'gender', 'count']\n",
    "        ).groupby('gender').sum().sort_index()  # чтобы F точно была перед M\n",
    "        \n",
    "        listedData = newData['count'].tolist()\n",
    "        data['F'].append(listedData[0])\n",
    "        data['M'].append(listedData[1])\n",
    "        \n",
    "    print(data)"
   ]
  },
  {
   "cell_type": "code",
   "execution_count": 233,
   "metadata": {},
   "outputs": [
    {
     "name": "stdout",
     "output_type": "stream",
     "text": [
      "{'M': [150486, 1790871, 1962744], 'F': [299810, 1713259, 1814922]}\n"
     ]
    }
   ],
   "source": [
    "count_dynamics([1900, 1950, 2000])"
   ]
  }
 ],
 "metadata": {
  "kernelspec": {
   "display_name": "Python 3",
   "language": "python",
   "name": "python3"
  },
  "language_info": {
   "codemirror_mode": {
    "name": "ipython",
    "version": 3
   },
   "file_extension": ".py",
   "mimetype": "text/x-python",
   "name": "python",
   "nbconvert_exporter": "python",
   "pygments_lexer": "ipython3",
   "version": "3.5.0"
  }
 },
 "nbformat": 4,
 "nbformat_minor": 2
}
